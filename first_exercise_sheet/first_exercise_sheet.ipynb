{
 "cells": [
  {
   "cell_type": "code",
   "execution_count": null,
   "metadata": {},
   "outputs": [],
   "source": [
    "import pylab as p\n",
    "%matplotlib inline\n",
    "import matplotlib.pyplot as plt\n",
    "import numpy as np\n",
    "import load_mnist\n",
    "#from keras.datasets import mnist\n",
    "\n",
    "# Some nice default configuration for plots\n",
    "plt.rcParams['figure.figsize'] = 10, 7.5\n",
    "plt.rcParams['axes.grid'] = True\n",
    "plt.gray()"
   ]
  },
  {
   "cell_type": "code",
   "execution_count": null,
   "metadata": {},
   "outputs": [],
   "source": [
    "# read MNIST data set and scale it\n",
    "X0,y0,Xv,yv,X1,y1 = load_mnist.read([0,1,2,3,4,5,6,7,8,9], path=\"\")\n",
    "x0 = (1.0/255.0)*X0.astype('float64')\n",
    "x1 = (1.0/255.0)*X1.astype('float64')\n",
    "x2 = (1.0/255.0)*Xv.astype('float64')\n",
    "y0 = y0.astype('float64')\n",
    "y1 = y1.astype('float64')\n",
    "y2 = yv.astype('float64')"
   ]
  },
  {
   "cell_type": "code",
   "execution_count": null,
   "metadata": {},
   "outputs": [],
   "source": [
    "def plot_gallery(data, labels, shape, interpolation='nearest'):\n",
    "    for i in range(data.shape[0]):\n",
    "        plt.subplot(1, data.shape[0], (i + 1))\n",
    "        plt.imshow(data[i].reshape(shape), interpolation=interpolation)\n",
    "        plt.title(labels[i])\n",
    "        plt.xticks(()), plt.yticks(())\n",
    "\n",
    "subsample = np.random.permutation(x0.shape[0])[:5]\n",
    "images = x0[subsample]\n",
    "labels = ['True class: %d' % np.argmax(l) for l in y0[subsample]]\n",
    "plot_gallery(images, labels, shape=(28, 28))"
   ]
  },
  {
   "cell_type": "markdown",
   "metadata": {},
   "source": [
    "Globale Arrays und Variablen des Netzwerkes:"
   ]
  },
  {
   "cell_type": "code",
   "execution_count": null,
   "metadata": {},
   "outputs": [],
   "source": [
    "# Netzwerkparameter\n",
    "# mbs = 10                     # Größe der Minibatches\n",
    "mbs = 10\n",
    "# eta = 3.0                    # Lernrate\n",
    "eta = 0.03\n",
    "# no_hidden = 36               # Anzahl versteckter Neuronen\n",
    "no_hidden = 2\n",
    "# epochs = 15                  # Anzahl Epochen\n",
    "epochs = 150\n",
    "# sizes = [784, no_hidden, 10] # dreischichtiges MPL mit 784 Eingangs-, no_hidden versteckten, 10 Ausgangsneuronen\n",
    "sizes = [2, no_hidden, no_hidden, 1]\n",
    "num_layers = len(sizes)      # Anzahl Schichten\n",
    "\n",
    "# Arrays für Gewichte und Schwellwerte (initialisiert mit Gaußschem Rauschen)\n",
    "biases = [np.random.randn(y, 1) for y in sizes[1:]]                         # Schwellwerte\n",
    "weights = [np.random.randn(y, x) for x, y in zip(sizes[:-1], sizes[1:])]    # Gewichte\n",
    "print(weights[1].shape)"
   ]
  },
  {
   "cell_type": "markdown",
   "metadata": {},
   "source": [
    "Einige Hilfsfunktionen:"
   ]
  },
  {
   "cell_type": "code",
   "execution_count": null,
   "metadata": {},
   "outputs": [],
   "source": [
    "# Sigmoid (vektorisiert)\n",
    "def sigmoid(z):\n",
    "    \"\"\"The sigmoid function.\"\"\"\n",
    "    return 1.0/(1.0+np.exp(-z))\n",
    "\n",
    "# Ableitung des Sigmoids\n",
    "def sigmoid_prime(z):\n",
    "    \"\"\"Derivative of the sigmoid function.\"\"\"\n",
    "    return sigmoid(z)*(1-sigmoid(z))\n",
    "\n",
    "# Ableitung der MSE-Kostenfunktion\n",
    "def cost_derivative(output_activations, y):\n",
    "    \"\"\"Return the vector of partial derivatives \\partial C_x /\n",
    "    \\partial a for the output activations.\"\"\"\n",
    "    return (output_activations-y)"
   ]
  },
  {
   "cell_type": "markdown",
   "metadata": {},
   "source": [
    "Vorwärtslauf durch das Netzwerk für Testläufe (Prädiktion):"
   ]
  },
  {
   "cell_type": "code",
   "execution_count": null,
   "metadata": {},
   "outputs": [],
   "source": [
    "def feedforward(a):\n",
    "    \"\"\"Return the output of the network if ``a`` is input.\"\"\"\n",
    "    for b, w in zip(biases, weights):\n",
    "        a = sigmoid(np.dot(w, a)+b)\n",
    "    return a"
   ]
  },
  {
   "cell_type": "markdown",
   "metadata": {},
   "source": [
    "Backpropagation-Algorithmus für ein Paar aus Input x und Label y:"
   ]
  },
  {
   "cell_type": "code",
   "execution_count": null,
   "metadata": {},
   "outputs": [],
   "source": [
    "def backprop(x, y):\n",
    "    \"\"\"Return a tuple ``(nabla_b, nabla_w)`` representing the\n",
    "    gradient for the cost function C_x.  ``nabla_b`` and\n",
    "    ``nabla_w`` are layer-by-layer lists of numpy arrays, similar\n",
    "    to ``self.biases`` and ``self.weights``.\"\"\"\n",
    "    \n",
    "    # Initialisiere Updates für Schwellwerte und Gewichte\n",
    "    nabla_b = [np.zeros(b.shape) for b in biases]\n",
    "    nabla_w = [np.zeros(w.shape) for w in weights]\n",
    "    \n",
    "    # Vorwärtslauf\n",
    "    activation = x # Initialisierung a^1 = x\n",
    "    activations = [x] # list to store all the activations, layer by layer\n",
    "    zs = [] # list to store all the z vectors, layer by layer\n",
    "    for b, w in zip(biases, weights):\n",
    "        z = np.dot(w, activation) + b\n",
    "        zs.append(z)\n",
    "        activation = sigmoid(z)\n",
    "        activations.append(activation)\n",
    "    \n",
    "    # Rückwärtslauf\n",
    "    delta = cost_derivative(activations[-1], y) * sigmoid_prime(zs[-1]) # Fehler am Output\n",
    "    nabla_b[-1] = delta # Update Schwellwert in der Ausgangsschicht\n",
    "    nabla_w[-1] = np.dot(delta, activations[-2].transpose()) # Update Gewichte in der Ausgangsschicht\n",
    "    for l in range(2, num_layers): # Backpropagation\n",
    "        z = zs[-l] # gewichteter Input\n",
    "        sp = sigmoid_prime(z) # Ableitung der Aktivierungsfunktion\n",
    "        delta = np.dot(weights[-l+1].transpose(), delta) * sp # Fehler in Schicht l\n",
    "        nabla_b[-l] = delta # Update Schwellwert \n",
    "        nabla_w[-l] = np.dot(delta, activations[-l-1].transpose()) # Update Gewichte\n",
    "\n",
    "    return (nabla_b, nabla_w)"
   ]
  },
  {
   "cell_type": "markdown",
   "metadata": {},
   "source": [
    "Gemitteltes Update über einen Minibatch:"
   ]
  },
  {
   "cell_type": "code",
   "execution_count": null,
   "metadata": {},
   "outputs": [],
   "source": [
    "def update_mini_batch(xmb, ymb, eta):\n",
    "    \"\"\"Update the network's weights and biases by applying\n",
    "    gradient descent using backpropagation to a single mini batch.\n",
    "    The ``mini_batch`` is a list of tuples ``(x, y)``, and ``eta``\n",
    "    is the learning rate.\"\"\"\n",
    "    global weights\n",
    "    global biases\n",
    "\n",
    "    # Initialisiere Updates für Schwellwerte und Gewichte\n",
    "    nabla_b = [np.zeros(b.shape) for b in biases]\n",
    "    nabla_w = [np.zeros(w.shape) for w in weights]\n",
    "    \n",
    "    # Gehe durch alle Beispielpaare im Minibatch\n",
    "    for i in range(xmb.shape[0]):\n",
    "        x = np.reshape(xmb[i,:],(xmb.shape[1],1)).copy()\n",
    "        if len(ymb.shape) == 2:\n",
    "            y = np.reshape(ymb[i,:],(ymb.shape[1],1)).copy()\n",
    "        else:\n",
    "            y = ymb[i].copy()\n",
    "        \n",
    "        # Berechne Updates für alle Schichten über Backprop\n",
    "        delta_nabla_b, delta_nabla_w = backprop(x, y)\n",
    "        \n",
    "        # Addiere einzelne Updates auf\n",
    "        nabla_b = [nb+dnb for nb, dnb in zip(nabla_b, delta_nabla_b)]\n",
    "        nabla_w = [nw+dnw for nw, dnw in zip(nabla_w, delta_nabla_w)]\n",
    "    \n",
    "    # Berechne neue Gewichte\n",
    "    weights = [w-(eta/xmb.shape[0])*nw\n",
    "                    for w, nw in zip(weights, nabla_w)]\n",
    "    biases = [b-(eta/xmb.shape[0])*nb\n",
    "                   for b, nb in zip(biases, nabla_b)]\n",
    "    \n",
    "    return (weights, biases)"
   ]
  },
  {
   "cell_type": "markdown",
   "metadata": {},
   "source": [
    "Hilfsfunktion zur Evaluation des Netzwerkes auf den Testdaten:"
   ]
  },
  {
   "cell_type": "code",
   "execution_count": null,
   "metadata": {},
   "outputs": [],
   "source": [
    "def evaluate(x2, y2):\n",
    "    \"\"\"Return the number of test inputs for which the neural\n",
    "    network outputs the correct result. Note that the neural\n",
    "    network's output is assumed to be the index of whichever\n",
    "    neuron in the final layer has the highest activation.\"\"\"\n",
    "    \n",
    "    correct = 0 # Anzahl korrekt klassifizierter Testbeispiele\n",
    "    errors = []\n",
    "    \n",
    "    # Gehe den Testdatensatz durch\n",
    "    for i in range(0, x2.shape[0]):\n",
    "        x = np.reshape(x2[i,:],(x2.shape[1],1)).copy()\n",
    "        if len(y2.shape) == 2:\n",
    "            y = np.reshape(y2[i,:],(y2.shape[1],1)).copy()\n",
    "        else:\n",
    "            y = y2[i].copy()\n",
    "        \n",
    "        # Vorwärtslauf\n",
    "        ypred = feedforward(x)\n",
    "        \n",
    "        # Label ist in one-hot-Codierung: korrekte Klasse ist 1, alle anderen 0\n",
    "        # c = np.argmax(y)\n",
    "        c = np.argmax(y)\n",
    "        \n",
    "        # Index des maximal aktivierten Outputs ist die Entscheidung des Netzwerk\n",
    "        # cpred = np.argmax(ypred)\n",
    "        cpred = np.max(ypred)\n",
    "        \n",
    "        # Falls beide übereinstimmen, addiere zur Gesamtzahl\n",
    "        # if c == cpred:\n",
    "        #     correct += 1\n",
    "        if (c == 0 and cpred < 0.5) or (c == 1 and cpred >= 0.5):\n",
    "            correct += 1\n",
    "\n",
    "        errors.append(np.square(c - cpred))\n",
    "\n",
    "    return correct, np.mean(errors)"
   ]
  },
  {
   "cell_type": "markdown",
   "metadata": {},
   "source": [
    "Stochastischer Gradientenabstieg:"
   ]
  },
  {
   "cell_type": "code",
   "execution_count": null,
   "metadata": {},
   "outputs": [],
   "source": [
    "def SGD(x0, y0, epochs, mini_batch_size, eta, x2, y2):\n",
    "\n",
    "    n_test = x2.shape[0] # Anzahl Testdaten\n",
    "    n = x0.shape[0]      # Anzahl Trainingsdaten\n",
    "    \n",
    "    # gehe durch alle Epochen\n",
    "    acc_val = np.zeros(epochs)\n",
    "    mse = np.zeros(epochs)\n",
    "    for j in range(epochs):\n",
    "        \n",
    "        # Bringe die Trainingsdaten in eine zufällige Reihenfolge für jede Epoche\n",
    "        p = np.random.permutation(n) # Zufällige Permutation aller Indizes von 0 .. n-1\n",
    "        x0 = x0[p,:]\n",
    "        y0 = y0[p]\n",
    "        \n",
    "        # Zerlege den permutierten Datensatz in Minibatches \n",
    "        for k in range(0, n, mini_batch_size):\n",
    "            xmb = x0[k:k+mini_batch_size,:]\n",
    "            if len(y0.shape) == 2:\n",
    "                ymb = y0[k:k+mini_batch_size,:]\n",
    "            else:\n",
    "                ymb = y0[k:k+mini_batch_size]\n",
    "            update_mini_batch(xmb, ymb, eta)\n",
    "        \n",
    "        # Gib Performance aus\n",
    "        acc_val[j], mse[j] = evaluate(x2, y2)\n",
    "        print(\"Epoch {0}: {1} / {2}\".format(j, acc_val[j], n_test))\n",
    "    \n",
    "    return acc_val, mse"
   ]
  },
  {
   "cell_type": "markdown",
   "metadata": {},
   "source": [
    "Training:"
   ]
  },
  {
   "cell_type": "code",
   "execution_count": null,
   "metadata": {
    "collapsed": false
   },
   "outputs": [],
   "source": [
    "acc_val = SGD(x0, y0, epochs, mbs, eta, x2, y2)"
   ]
  },
  {
   "cell_type": "markdown",
   "metadata": {
    "collapsed": true
   },
   "source": [
    "Evaluation auf den unabhängigen Testdaten:"
   ]
  },
  {
   "cell_type": "code",
   "execution_count": null,
   "metadata": {},
   "outputs": [],
   "source": [
    "print(\"Test accuracy: {0} / {1}\".format(evaluate(x1, y1), x1.shape[0]))"
   ]
  },
  {
   "cell_type": "markdown",
   "metadata": {},
   "source": [
    "Lernkurve (Genauigkeit auf Validierungsdatensatz):"
   ]
  },
  {
   "cell_type": "code",
   "execution_count": null,
   "metadata": {},
   "outputs": [],
   "source": [
    "plt.plot(acc_val/x2.shape[0]);"
   ]
  },
  {
   "cell_type": "markdown",
   "metadata": {},
   "source": [
    "Trainierte rezeptive Felder:"
   ]
  },
  {
   "cell_type": "code",
   "execution_count": null,
   "metadata": {},
   "outputs": [],
   "source": [
    "labels = range(no_hidden)\n",
    "plot_gallery(weights[0][:10,:],labels, shape=(28, 28))"
   ]
  },
  {
   "cell_type": "code",
   "execution_count": null,
   "metadata": {},
   "outputs": [],
   "source": [
    "labels = range(10)\n",
    "plot_gallery(weights[1],labels, shape=(36,1))"
   ]
  },
  {
   "cell_type": "code",
   "execution_count": null,
   "metadata": {},
   "outputs": [],
   "source": [
    "import pandas as pd\n",
    "import matplotlib.pyplot as plt\n",
    "train = np.array([np.random.uniform(-6.0, 6.0, 200), np.random.uniform(-6.0, 6.0, 200)]).T\n",
    "df_train = pd.DataFrame(train)\n",
    "df_train['labels'] = np.where((df_train[0] > 0) & (df_train[1] > 0) | (df_train[0] < 0) & (df_train[1] < 0) , 1, 0)\n",
    "colors = np.where(df_train['labels'] == 1, 'blue', 'red')\n",
    "plt.scatter(df_train[0], df_train[1], c = colors)\n"
   ]
  },
  {
   "cell_type": "code",
   "execution_count": null,
   "metadata": {},
   "outputs": [],
   "source": [
    "test = np.array([np.random.uniform(-6.0, 6.0, 200), np.random.uniform(-6.0, 6.0, 200)]).T\n",
    "df_test = pd.DataFrame(test)\n",
    "df_test['labels'] = np.where((df_test[0] > 0) & (df_test[1] > 0) | (df_test[0] < 0) & (df_test[1] < 0) , 1, 0)\n",
    "colors = np.where(df_test['labels'] == 1, 'blue', 'red')\n",
    "plt.scatter(df_test[0], df_test[1], c = colors)\n",
    "df_test"
   ]
  },
  {
   "cell_type": "code",
   "execution_count": null,
   "metadata": {},
   "outputs": [],
   "source": [
    "#1.4\n",
    "w_vert = np.array([0, 1])\n",
    "w_hor = np.array([1, 0])"
   ]
  },
  {
   "cell_type": "code",
   "execution_count": null,
   "metadata": {
    "collapsed": false
   },
   "outputs": [],
   "source": [
    "#1.5\n",
    "def neuron(x, y, w):\n",
    "    X,Y = np.meshgrid(x, y)\n",
    "    input = np.stack([X.flatten(), Y.flatten()]).T\n",
    "    postNeuron = np.matmul(input, w)\n",
    "    return sigmoid(postNeuron).reshape(X.shape)\n",
    "\n",
    "\n",
    "def plot(w):\n",
    "    x = np.arange(-6.0,6.0,0.12)\n",
    "    y = np.arange(-6.0,6.0,0.12)\n",
    "    Z = neuron(x, y, w)\n",
    "\n",
    "    X,Y = np.meshgrid(x, y)\n",
    "    plt.pcolor(X, Y, Z, cmap='winter')\n",
    "    plt.colorbar()\n",
    "    plt.xlabel('x')\n",
    "    plt.ylabel('y')\n",
    "    plt.show()\n",
    "\n",
    "plot(w_vert)\n",
    "plot(w_hor)"
   ]
  },
  {
   "cell_type": "code",
   "execution_count": null,
   "metadata": {
    "collapsed": false
   },
   "outputs": [],
   "source": [
    "#1.6\n",
    "def preprocess(df):\n",
    "    data = df[[0, 1]].to_numpy()\n",
    "    new_data = np.stack((sigmoid(np.dot(data, w_vert)), sigmoid(np.dot(data, w_hor))), axis = 1)\n",
    "    new_df = pd.DataFrame(new_data)\n",
    "    new_df['labels'] = df['labels']\n",
    "    return new_df\n",
    "\n",
    "df_train_n = preprocess(df_train)\n",
    "df_test_n = preprocess(df_test)\n",
    "\n",
    "\n",
    "x_grid = np.arange(-6.0,6.0,0.12)\n",
    "y_grid = np.arange(-6.0,6.0,0.12)\n",
    "data = np.array(np.meshgrid(x_grid, y_grid)).T.reshape(-1,2)\n",
    "df_grid = pd.DataFrame(data)\n",
    "df_grid['labels'] = np.where((df_grid[0] > 0) & (df_grid[1] > 0) | (df_grid[0] < 0) & (df_grid[1] < 0) , 1, 0)\n",
    "df_grid_n = preprocess(df_grid)"
   ]
  },
  {
   "cell_type": "code",
   "execution_count": null,
   "metadata": {
    "collapsed": false
   },
   "outputs": [],
   "source": [
    "#2.3\n",
    "# acc_val = SGD(x0, y0, epochs, mbs, eta, x2, y2)\n",
    "x0 = df_train_n[[0, 1]].to_numpy()\n",
    "y0 = df_train_n[['labels']].to_numpy()\n",
    "x2 = df_test_n[[0, 1]].to_numpy()\n",
    "y2 = df_test_n[['labels']].to_numpy()\n",
    "acc_val, mse = SGD(x0, y0, epochs, mbs, eta, x2, y2)"
   ]
  },
  {
   "cell_type": "code",
   "execution_count": null,
   "metadata": {
    "collapsed": false
   },
   "outputs": [],
   "source": [
    "print(\"Test accuracy: {0} / {1}\".format(evaluate(x1, y1), x1.shape[0]))"
   ]
  },
  {
   "cell_type": "code",
   "execution_count": null,
   "metadata": {
    "collapsed": false
   },
   "outputs": [],
   "source": [
    "plt.plot(acc_val/x2.shape[0]);"
   ]
  },
  {
   "attachments": {},
   "cell_type": "markdown",
   "metadata": {},
   "source": [
    "Aufgabe 3: \\\n",
    "\n",
    "Das Netz aus der Vorlesung verwendet als Aktivierungsfunktion den Tangens hyperbolicus (np.tanh()). Passen Sie die Funktionen sigmoid() und sigmoid_prime() entsprechend an. Achtung: kommentieren Sie den bisherigen Code für die Sigmoidfunktion nur aus, wir werden ihn in der nächsten Aufgabe nochmals benötigen. Da die Ausgangswerte von tanh im Intervall [−1,1] statt [0,1] liegen, müssen wir hierfür nochmals die Funktion evaluate() entsprechend anpassen.\n"
   ]
  },
  {
   "cell_type": "code",
   "execution_count": null,
   "metadata": {},
   "outputs": [],
   "source": [
    "# Tangens hyperbolicus (vektorisiert)\n",
    "def tanh(z):\n",
    "    \"\"\"The hyperbolic tangent function.\"\"\"\n",
    "    return np.tanh(z)\n",
    "\n",
    "# Ableitung des Tangens hyperbolicus\n",
    "def tanh_prime(z):\n",
    "    \"\"\"Derivative of the hyperbolic tangent function.\"\"\"\n",
    "    return 1 - tanh(z)**2"
   ]
  },
  {
   "cell_type": "code",
   "execution_count": null,
   "metadata": {},
   "outputs": [],
   "source": [
    "# angepasste evaluate Funktion\n",
    "def evaluate_tangh(x2, y2):\n",
    "    \"\"\"Return the number of test inputs for which the neural\n",
    "    network outputs the correct result. Note that the neural\n",
    "    network's output is assumed to be the index of whichever\n",
    "    neuron in the final layer has the highest activation.\"\"\"\n",
    "    \n",
    "    correct = 0 # Anzahl korrekt klassifizierter Testbeispiele\n",
    "    errors = []\n",
    "    \n",
    "    # Gehe den Testdatensatz durch\n",
    "    for i in range(0, x2.shape[0]):\n",
    "        x = np.reshape(x2[i,:],(x2.shape[1],1)).copy()\n",
    "        if len(y2.shape) == 2:\n",
    "            y = np.reshape(y2[i,:],(y2.shape[1],1)).copy()\n",
    "        else:\n",
    "            y = y2[i].copy()\n",
    "        \n",
    "        # Vorwärtslauf\n",
    "        ypred = feedforward(x)\n",
    "        \n",
    "        # Label ist in one-hot-Codierung: korrekte Klasse ist 1, alle anderen 0\n",
    "        # c = np.argmax(y)\n",
    "        c = np.argmax(y)\n",
    "        \n",
    "        # Index des maximal aktivierten Outputs ist die Entscheidung des Netzwerk\n",
    "        # cpred = np.argmax(ypred)\n",
    "        cpred = np.max(ypred)\n",
    "        \n",
    "        # Falls beide übereinstimmen, addiere zur Gesamtzahl\n",
    "        # if c == cpred:\n",
    "        #     correct += 1\n",
    "        \n",
    "        # ANPASSEN: Falls beide übereinstimmen, addiere zur Gesamtzahl\n",
    "        # Diese Bedingung muss angepasst werden für die neue Tangens hyperbolicus Aktivierungsfunktion !\n",
    "        if (c == 0 and cpred < 0) or (c == 1 and cpred >= 0):\n",
    "            correct += 1\n",
    "\n",
    "        errors.append(np.square(c - cpred))\n",
    "\n",
    "    return correct, np.mean(errors)"
   ]
  },
  {
   "attachments": {},
   "cell_type": "markdown",
   "metadata": {},
   "source": [
    "Aufgabe 4: \\\n",
    "Eine alternative, besser an das Klassifikationsszenario angepasste Kostenfunktion statt des MSE ist die Kostenfunktion für die logistische Regression."
   ]
  },
  {
   "cell_type": "code",
   "execution_count": null,
   "metadata": {},
   "outputs": [],
   "source": [
    "# Ableitung der Kostenfunktion für die logistische Regression\n",
    "def cost_derivative(output_activations, y):\n",
    "    \"\"\"Return the vector of partial derivatives \\partial C_x /\n",
    "    \\partial a for the output activations.\"\"\"\n",
    "    return -y * np.log(output_activations) - (1 - y) * np.log(1 - output_activations)\n",
    "\n",
    "\n",
    "# Überprüfen der Genauigkeit des neuronale Netzwerks\n",
    "accuracy, error = evaluate(x2, y2)\n",
    "print(f\"Accuracy: {accuracy}/{x2.shape[0]} ({accuracy / x2.shape[0] * 100}%)\")\n",
    "\n",
    "# Ausgeben der Kostenfunktion\n",
    "print(f\"Cost: {np.nan_to_num(cost(output_activations, y))}\")\n",
    "\n",
    "#lernrate eta \n",
    "eta = 1.0\n",
    "\n"
   ]
  }
 ],
 "metadata": {
  "kernelspec": {
   "display_name": "Python 3",
   "language": "python",
   "name": "python3"
  },
  "language_info": {
   "codemirror_mode": {
    "name": "ipython",
    "version": 3
   },
   "file_extension": ".py",
   "mimetype": "text/x-python",
   "name": "python",
   "nbconvert_exporter": "python",
   "pygments_lexer": "ipython3",
   "version": "3.10.9"
  },
  "vscode": {
   "interpreter": {
    "hash": "c68636a1e49bf3485adde1c0d609ef5e395c0403b8d075633af773dedef405cd"
   }
  }
 },
 "nbformat": 4,
 "nbformat_minor": 2
}
